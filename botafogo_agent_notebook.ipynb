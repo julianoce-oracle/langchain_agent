{
 "cells": [
  {
   "cell_type": "markdown",
   "metadata": {},
   "source": [
    " # 🤖 Agente LangChain - Notícias do Botafogo\n",
    "\n",
    "\n",
    "\n",
    " Este notebook implementa um agente que coleta notícias do Botafogo e as processa usando LLM no OCI.\n",
    "\n",
    "\n",
    "\n",
    " ## Funcionalidades:\n",
    "\n",
    " - 📰 Coleta notícias do GE Globo\n",
    "\n",
    " - 🤖 Processa com LLM via OCI\n",
    "\n",
    " - 🔍 Busca inteligente com LangChain"
   ]
  },
  {
   "cell_type": "markdown",
   "metadata": {},
   "source": [
    " ## 🕷️ Coletor de Notícias do Botafogo"
   ]
  },
  {
   "cell_type": "code",
   "execution_count": 6,
   "metadata": {},
   "outputs": [
    {
     "name": "stdout",
     "output_type": "stream",
     "text": [
      "Requirement already satisfied: tavily-python in /usr/local/lib/python3.10/dist-packages (0.7.11)\n",
      "Requirement already satisfied: requests in /usr/local/lib/python3.10/dist-packages (from tavily-python) (2.31.0)\n",
      "Requirement already satisfied: tiktoken>=0.5.1 in /usr/local/lib/python3.10/dist-packages (from tavily-python) (0.10.0)\n",
      "Requirement already satisfied: httpx in /usr/local/lib/python3.10/dist-packages (from tavily-python) (0.28.1)\n",
      "Requirement already satisfied: regex>=2022.1.18 in /usr/local/lib/python3.10/dist-packages (from tiktoken>=0.5.1->tavily-python) (2025.7.34)\n",
      "Requirement already satisfied: charset-normalizer<4,>=2 in /usr/local/lib/python3.10/dist-packages (from requests->tavily-python) (3.4.2)\n",
      "Requirement already satisfied: idna<4,>=2.5 in /usr/local/lib/python3.10/dist-packages (from requests->tavily-python) (3.10)\n",
      "Requirement already satisfied: urllib3<3,>=1.21.1 in /usr/local/lib/python3.10/dist-packages (from requests->tavily-python) (2.5.0)\n",
      "Requirement already satisfied: certifi>=2017.4.17 in /usr/local/lib/python3.10/dist-packages (from requests->tavily-python) (2025.8.3)\n",
      "Requirement already satisfied: anyio in /usr/local/lib/python3.10/dist-packages (from httpx->tavily-python) (4.10.0)\n",
      "Requirement already satisfied: httpcore==1.* in /usr/local/lib/python3.10/dist-packages (from httpx->tavily-python) (1.0.9)\n",
      "Requirement already satisfied: h11>=0.16 in /usr/local/lib/python3.10/dist-packages (from httpcore==1.*->httpx->tavily-python) (0.16.0)\n",
      "Requirement already satisfied: exceptiongroup>=1.0.2 in /usr/local/lib/python3.10/dist-packages (from anyio->httpx->tavily-python) (1.3.0)\n",
      "Requirement already satisfied: sniffio>=1.1 in /usr/local/lib/python3.10/dist-packages (from anyio->httpx->tavily-python) (1.3.1)\n",
      "Requirement already satisfied: typing_extensions>=4.5 in /usr/local/lib/python3.10/dist-packages (from anyio->httpx->tavily-python) (4.14.1)\n",
      "\u001b[33mWARNING: Running pip as the 'root' user can result in broken permissions and conflicting behaviour with the system package manager. It is recommended to use a virtual environment instead: https://pip.pypa.io/warnings/venv\u001b[0m\u001b[33m\n",
      "\u001b[0mRequirement already satisfied: langchain-community in /usr/local/lib/python3.10/dist-packages (0.3.27)\n",
      "Requirement already satisfied: langchain-core in /usr/local/lib/python3.10/dist-packages (0.3.72)\n",
      "Collecting langchain-core\n",
      "  Downloading langchain_core-0.3.75-py3-none-any.whl.metadata (5.7 kB)\n",
      "Requirement already satisfied: oci in /usr/local/lib/python3.10/dist-packages (2.159.0)\n",
      "Requirement already satisfied: langchain<1.0.0,>=0.3.26 in /usr/local/lib/python3.10/dist-packages (from langchain-community) (0.3.27)\n",
      "Requirement already satisfied: SQLAlchemy<3,>=1.4 in /usr/local/lib/python3.10/dist-packages (from langchain-community) (2.0.42)\n",
      "Requirement already satisfied: requests<3,>=2 in /usr/local/lib/python3.10/dist-packages (from langchain-community) (2.31.0)\n",
      "Requirement already satisfied: PyYAML>=5.3 in /usr/local/lib/python3.10/dist-packages (from langchain-community) (6.0.2)\n",
      "Requirement already satisfied: aiohttp<4.0.0,>=3.8.3 in /usr/local/lib/python3.10/dist-packages (from langchain-community) (3.12.15)\n",
      "Requirement already satisfied: tenacity!=8.4.0,<10,>=8.1.0 in /usr/local/lib/python3.10/dist-packages (from langchain-community) (8.5.0)\n",
      "Requirement already satisfied: dataclasses-json<0.7,>=0.5.7 in /usr/local/lib/python3.10/dist-packages (from langchain-community) (0.6.7)\n",
      "Requirement already satisfied: pydantic-settings<3.0.0,>=2.4.0 in /usr/local/lib/python3.10/dist-packages (from langchain-community) (2.10.1)\n",
      "Requirement already satisfied: langsmith>=0.1.125 in /usr/local/lib/python3.10/dist-packages (from langchain-community) (0.3.45)\n",
      "Requirement already satisfied: httpx-sse<1.0.0,>=0.4.0 in /usr/local/lib/python3.10/dist-packages (from langchain-community) (0.4.1)\n",
      "Requirement already satisfied: numpy>=1.26.2 in /usr/local/lib/python3.10/dist-packages (from langchain-community) (1.26.4)\n",
      "Requirement already satisfied: jsonpatch<2.0,>=1.33 in /usr/local/lib/python3.10/dist-packages (from langchain-core) (1.33)\n",
      "Requirement already satisfied: typing-extensions>=4.7 in /usr/local/lib/python3.10/dist-packages (from langchain-core) (4.14.1)\n",
      "Requirement already satisfied: packaging>=23.2 in /usr/local/lib/python3.10/dist-packages (from langchain-core) (23.2)\n",
      "Requirement already satisfied: pydantic>=2.7.4 in /usr/local/lib/python3.10/dist-packages (from langchain-core) (2.11.7)\n",
      "Requirement already satisfied: certifi in /usr/local/lib/python3.10/dist-packages (from oci) (2025.8.3)\n",
      "Requirement already satisfied: cryptography<46.0.0,>=3.2.1 in /usr/lib/python3/dist-packages (from oci) (41.0.7)\n",
      "Requirement already satisfied: pyOpenSSL<25.0.0,>=17.5.0 in /usr/lib/python3/dist-packages (from oci) (23.2.0)\n",
      "Requirement already satisfied: python-dateutil<3.0.0,>=2.5.3 in /usr/local/lib/python3.10/dist-packages (from oci) (2.9.0.post0)\n",
      "Requirement already satisfied: pytz>=2016.10 in /usr/lib/python3/dist-packages (from oci) (2024.1)\n",
      "Requirement already satisfied: circuitbreaker<3.0.0,>=1.3.1 in /usr/local/lib/python3.10/dist-packages (from oci) (2.1.3)\n",
      "Requirement already satisfied: aiohappyeyeballs>=2.5.0 in /usr/local/lib/python3.10/dist-packages (from aiohttp<4.0.0,>=3.8.3->langchain-community) (2.6.1)\n",
      "Requirement already satisfied: aiosignal>=1.4.0 in /usr/local/lib/python3.10/dist-packages (from aiohttp<4.0.0,>=3.8.3->langchain-community) (1.4.0)\n",
      "Requirement already satisfied: async-timeout<6.0,>=4.0 in /usr/local/lib/python3.10/dist-packages (from aiohttp<4.0.0,>=3.8.3->langchain-community) (4.0.3)\n",
      "Requirement already satisfied: attrs>=17.3.0 in /usr/local/lib/python3.10/dist-packages (from aiohttp<4.0.0,>=3.8.3->langchain-community) (25.3.0)\n",
      "Requirement already satisfied: frozenlist>=1.1.1 in /usr/local/lib/python3.10/dist-packages (from aiohttp<4.0.0,>=3.8.3->langchain-community) (1.7.0)\n",
      "Requirement already satisfied: multidict<7.0,>=4.5 in /usr/local/lib/python3.10/dist-packages (from aiohttp<4.0.0,>=3.8.3->langchain-community) (6.6.3)\n",
      "Requirement already satisfied: propcache>=0.2.0 in /usr/local/lib/python3.10/dist-packages (from aiohttp<4.0.0,>=3.8.3->langchain-community) (0.3.2)\n",
      "Requirement already satisfied: yarl<2.0,>=1.17.0 in /usr/local/lib/python3.10/dist-packages (from aiohttp<4.0.0,>=3.8.3->langchain-community) (1.20.1)\n",
      "Requirement already satisfied: marshmallow<4.0.0,>=3.18.0 in /usr/local/lib/python3.10/dist-packages (from dataclasses-json<0.7,>=0.5.7->langchain-community) (3.26.1)\n",
      "Requirement already satisfied: typing-inspect<1,>=0.4.0 in /usr/local/lib/python3.10/dist-packages (from dataclasses-json<0.7,>=0.5.7->langchain-community) (0.9.0)\n",
      "Requirement already satisfied: jsonpointer>=1.9 in /usr/local/lib/python3.10/dist-packages (from jsonpatch<2.0,>=1.33->langchain-core) (3.0.0)\n",
      "Requirement already satisfied: langchain-text-splitters<1.0.0,>=0.3.9 in /usr/local/lib/python3.10/dist-packages (from langchain<1.0.0,>=0.3.26->langchain-community) (0.3.9)\n",
      "Requirement already satisfied: httpx<1,>=0.23.0 in /usr/local/lib/python3.10/dist-packages (from langsmith>=0.1.125->langchain-community) (0.28.1)\n",
      "Requirement already satisfied: orjson<4.0.0,>=3.9.14 in /usr/local/lib/python3.10/dist-packages (from langsmith>=0.1.125->langchain-community) (3.11.1)\n",
      "Requirement already satisfied: requests-toolbelt<2.0.0,>=1.0.0 in /usr/local/lib/python3.10/dist-packages (from langsmith>=0.1.125->langchain-community) (1.0.0)\n",
      "Requirement already satisfied: zstandard<0.24.0,>=0.23.0 in /usr/local/lib/python3.10/dist-packages (from langsmith>=0.1.125->langchain-community) (0.23.0)\n",
      "Requirement already satisfied: annotated-types>=0.6.0 in /usr/local/lib/python3.10/dist-packages (from pydantic>=2.7.4->langchain-core) (0.7.0)\n",
      "Requirement already satisfied: pydantic-core==2.33.2 in /usr/local/lib/python3.10/dist-packages (from pydantic>=2.7.4->langchain-core) (2.33.2)\n",
      "Requirement already satisfied: typing-inspection>=0.4.0 in /usr/local/lib/python3.10/dist-packages (from pydantic>=2.7.4->langchain-core) (0.4.1)\n",
      "Requirement already satisfied: python-dotenv>=0.21.0 in /usr/local/lib/python3.10/dist-packages (from pydantic-settings<3.0.0,>=2.4.0->langchain-community) (1.1.1)\n",
      "Requirement already satisfied: six>=1.5 in /usr/local/lib/python3.10/dist-packages (from python-dateutil<3.0.0,>=2.5.3->oci) (1.17.0)\n",
      "Requirement already satisfied: charset-normalizer<4,>=2 in /usr/local/lib/python3.10/dist-packages (from requests<3,>=2->langchain-community) (3.4.2)\n",
      "Requirement already satisfied: idna<4,>=2.5 in /usr/local/lib/python3.10/dist-packages (from requests<3,>=2->langchain-community) (3.10)\n",
      "Requirement already satisfied: urllib3<3,>=1.21.1 in /usr/local/lib/python3.10/dist-packages (from requests<3,>=2->langchain-community) (2.5.0)\n",
      "Requirement already satisfied: greenlet>=1 in /usr/local/lib/python3.10/dist-packages (from SQLAlchemy<3,>=1.4->langchain-community) (3.2.3)\n",
      "Requirement already satisfied: anyio in /usr/local/lib/python3.10/dist-packages (from httpx<1,>=0.23.0->langsmith>=0.1.125->langchain-community) (4.10.0)\n",
      "Requirement already satisfied: httpcore==1.* in /usr/local/lib/python3.10/dist-packages (from httpx<1,>=0.23.0->langsmith>=0.1.125->langchain-community) (1.0.9)\n",
      "Requirement already satisfied: h11>=0.16 in /usr/local/lib/python3.10/dist-packages (from httpcore==1.*->httpx<1,>=0.23.0->langsmith>=0.1.125->langchain-community) (0.16.0)\n",
      "Requirement already satisfied: mypy-extensions>=0.3.0 in /usr/local/lib/python3.10/dist-packages (from typing-inspect<1,>=0.4.0->dataclasses-json<0.7,>=0.5.7->langchain-community) (1.1.0)\n",
      "Requirement already satisfied: exceptiongroup>=1.0.2 in /usr/local/lib/python3.10/dist-packages (from anyio->httpx<1,>=0.23.0->langsmith>=0.1.125->langchain-community) (1.3.0)\n",
      "Requirement already satisfied: sniffio>=1.1 in /usr/local/lib/python3.10/dist-packages (from anyio->httpx<1,>=0.23.0->langsmith>=0.1.125->langchain-community) (1.3.1)\n",
      "Downloading langchain_core-0.3.75-py3-none-any.whl (443 kB)\n",
      "\u001b[2K   \u001b[90m━━━━━━━━━━━━━━━━━━━━━━━━━━━━━━━━━━━━━━━━\u001b[0m \u001b[32m444.0/444.0 kB\u001b[0m \u001b[31m4.2 MB/s\u001b[0m eta \u001b[36m0:00:00\u001b[0ma \u001b[36m0:00:01\u001b[0m\n",
      "\u001b[?25hInstalling collected packages: langchain-core\n",
      "  Attempting uninstall: langchain-core\n",
      "    Found existing installation: langchain-core 0.3.72\n",
      "    Uninstalling langchain-core-0.3.72:\n",
      "      Successfully uninstalled langchain-core-0.3.72\n",
      "Successfully installed langchain-core-0.3.75\n",
      "\u001b[33mWARNING: Running pip as the 'root' user can result in broken permissions and conflicting behaviour with the system package manager. It is recommended to use a virtual environment instead: https://pip.pypa.io/warnings/venv\u001b[0m\u001b[33m\n",
      "\u001b[0m"
     ]
    }
   ],
   "source": [
    "!pip install tavily-python\n",
    "!pip install -U langchain-community langchain-core oci\n",
    "\n"
   ]
  },
  {
   "cell_type": "code",
   "execution_count": 7,
   "metadata": {},
   "outputs": [],
   "source": [
    "import requests\n",
    "from langchain_core.tools import tool\n",
    "from typing import Dict, List\n",
    "import re\n",
    "from tavily import TavilyClient\n",
    "\n",
    "@tool\n",
    "def get_botafogo_comprehensive_news(pergunta:str=\"Qual proximo jogo do Botafogo?\") -> str:\n",
    "    \"\"\"Retorna notícias do Botafogo de múltiplas fontes do GE Globo\"\"\"\n",
    "    \n",
    "    client = TavilyClient(\"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\") #essa é a API de dev, pode ser utilizada de qualquer forma\n",
    "    response = client.search(\n",
    "    query=pergunta)\n",
    "    return response\n",
    "\n"
   ]
  },
  {
   "cell_type": "markdown",
   "metadata": {},
   "source": [
    " ## 🤖 Configuração de autenticação de OCI SDK\n",
    "    - https://github.com/oracle/oci-python-sdk/blob/master/examples/configuration_example.py"
   ]
  },
  {
   "cell_type": "markdown",
   "metadata": {},
   "source": [
    " ## 🤖 Criação do Agente LangChain"
   ]
  },
  {
   "cell_type": "code",
   "execution_count": 8,
   "metadata": {},
   "outputs": [
    {
     "name": "stdout",
     "output_type": "stream",
     "text": [
      "\n",
      "\n",
      "\u001b[1m> Entering new AgentExecutor chain...\u001b[0m\n",
      "\u001b[32;1m\u001b[1;3mPara responder a essa pergunta, preciso buscar informações atualizadas sobre a agenda do Botafogo. \n",
      "A melhor forma de fazer isso é utilizando a função get_botafogo_comprehensive_news, que fornece notícias do Botafogo de múltiplas fontes do GE Globo.\n",
      "\n",
      "Action: get_botafogo_comprehensive_news\n",
      "Action Input: Qual próximo jogo do Botafogo?\n",
      "\u001b[0m\u001b[36;1m\u001b[1;3m{'query': 'Qual próximo jogo do Botafogo?\\n', 'follow_up_questions': None, 'answer': None, 'images': [], 'results': [{'url': 'https://www.365scores.com/pt-br/football/team/botafogo-1211', 'title': 'Botafogo: Jogos e Resultados ao vivo - 365Scores', 'content': '... Botafogo. Botafogo fará o seu próximo jogo contra Vasco da Gama em quinta-feira, 28 de agosto de 2025 (Vasco da Gama x Botafogo). Botafogo fez sua última', 'score': 0.9154545, 'raw_content': None}, {'url': 'https://www.placardefutebol.com.br/time/botafogo/proximos-jogos', 'title': 'Próximos jogos do Botafogo - calendário, datas e horários', 'content': 'Próximos jogos do Botafogo ; Vasco. Botafogo. QUA, 27/08 21:30 ; Botafogo. Bragantino. SÁB, 30/08 18:30 ; Botafogo. Vasco. QUI, 11/09 21:30 ; São Paulo. Botafogo.', 'score': 0.91362286, 'raw_content': None}, {'url': 'https://www.fogaonet.com/jogos/', 'title': 'Calendário de jogos do Botafogo - FogãoNET', 'content': '# Calendário Confira aqui todos as partidas do Botafogo na temporada: últimos resultados, próximos jogos e detalhes de cada compromisso alvinegro em todas as competições # Próximos Jogos Libertadores 21/08/25 às 19:00 - Casa Blanca LDU LDU BOT BOT # Histórico de Jogos Campeonato Brasileiro 17/08/25 às 20:30 - Nilton Santos BOT BOT PAL PAL Ler a crônica Libertadores 14/08/25 às 19:00 - Nilton Santos BOT BOT LDU LDU Ler a crônica Campeonato Brasileiro 09/08/25 às 20:30 - Arena Castelão BOT 06/08/25 às 19:00 - Cícero de Souza Marques 03/08/25 às 16:00 - Nilton Santos 29/07/25 às 19:00 - Nilton Santos 26/07/25 às 18:30 - Nilton Santos 20/07/25 às 17:30 - Ilha do Retiro 16/07/25 às 21:30 - Nilton Santos', 'score': 0.8740022, 'raw_content': None}, {'url': 'https://ge.globo.com/futebol/times/botafogo/', 'title': 'Botafogo | Últimas notícias, resultados e próximos jogos | ge', 'content': '# botafogo Atlético-MG Botafogo Atlético-GO Atlético de Madrid Atuações: veja quem foi bem, quem foi mal e dê suas notas - Foto: (Vitor Silva / Botafogo)/ \"Atuações: veja quem foi bem, quem foi mal e dê suas notas - Foto: (Vitor Silva / Botafogo)\") ## Botafogo vence na despedida antes da Copa e chega ao G-6 Botafogo vence na despedida antes da Copa e chega ao G-6 Time derrota o Ceará no Nilton Santos Botafogo vence na despedida antes da Copa e chega ao G-6 - Foto: (Vítor Silva/Botafogo)/ \"Botafogo vence na despedida antes da Copa e chega ao G-6 - Foto: (Vítor Silva/Botafogo)\") ## Botafogo negocia com Jović, atacante do Milan Botafogo negocia com Jović, atacante do Milan', 'score': 0.8003337, 'raw_content': None}, {'url': 'https://ge.globo.com/futebol/times/botafogo/agenda-de-jogos-do-botafogo/', 'title': 'Próximos jogos do Botafogo: datas, horários e onde assistir ao vivo', 'content': 'Image 61: Tottenham Image 123: Botafogo Image 132: Internacional Image 136: Santos Image 141: Amazonas Image 145: Atlético-GO Image 146: Avaí Image 148: Chapecoense Image 149: Coritiba Image 150: CRB Image 151: Criciúma Image 152: Cuiabá Image 153: Ferroviária Image 154: Goiás Image 155: Novorizontino Image 157: Paysandu Image 158: Remo Image 161: Arsenal Image 164: Barcelona Image 168: Chelsea Image 169: Internazionale Image 170: Juventus Image 171: Liverpool Image 174: Milan Image 175: Napoli Image 176: Newcastle 29/07 19:00 Copa do Brasil Nilton Santos (Engenhão) Image 191Botafogo Image 192Bragantino Onde assistir? 03/08 16:00 Campeonato Brasileiro Rodada 18 Nilton Santos (Engenhão) Image 193Botafogo Image 194Cruzeiro 06/08 19:00 Copa do Brasil Cícero de Souza Marques Image 195Bragantino Image 196Botafogo Onde assistir?', 'score': 0.7606688, 'raw_content': None}], 'response_time': 0.73, 'request_id': 'dd07e983-16c7-4297-ad01-2c8853af7177'}\u001b[0m\u001b[32;1m\u001b[1;3mAgora que tenho as informações sobre o próximo jogo do Botafogo, posso analisar os resultados e fornecer uma resposta útil.\n",
      "\n",
      "Observando os resultados, vejo que há várias fontes que fornecem informações sobre o próximo jogo do Botafogo, incluindo o site do GE Globo, o 365Scores e o Placar de Futebol. Todas essas fontes indicam que o próximo jogo do Botafogo será contra o Vasco da Gama, em 28 de agosto de 2025.\n",
      "\n",
      "Além disso, o site do Placar de Futebol fornece um calendário de jogos do Botafogo, que inclui os próximos jogos contra o Bragantino e o São Paulo.\n",
      "\n",
      "Com base nessa informação, posso concluir que o próximo jogo do Botafogo será contra o Vasco da Gama, em 28 de agosto de 2025.\n",
      "\n",
      "Final Answer: O próximo jogo do Botafogo será contra o Vasco da Gama, em 28 de agosto de 2025, às 21:30. Além disso, o time também tem jogos agendados contra o Bragantino e o São Paulo nos próximos dias. É importante verificar as fontes oficiais para obter informações atualizadas sobre a agenda do time.\u001b[0m\n",
      "\n",
      "\u001b[1m> Finished chain.\u001b[0m\n"
     ]
    }
   ],
   "source": [
    "\n",
    "from langchain_core.tools import tool\n",
    "from langchain_core.messages import HumanMessage\n",
    "from langchain_community.chat_models import ChatOCIGenAI\n",
    "from langchain.agents import AgentExecutor, create_react_agent\n",
    "from langchain_core.prompts import PromptTemplate\n",
    "\n",
    "# 2. Configuração da LLM OCI\n",
    "llm = ChatOCIGenAI(\n",
    "  model_id=\"\",\n",
    "  service_endpoint=\"https://inference.generativeai.us-chicago-1.oci.oraclecloud.com\",\n",
    "  compartment_id=\"\",\n",
    "  provider=\"meta\",\n",
    "  model_kwargs={\n",
    "    \"temperature\": 0.3, \n",
    "    \"max_tokens\": 800,   \n",
    "    \"top_p\": 0.8,  \n",
    "    \"frequency_penalty\": 0,\n",
    "    \"presence_penalty\": 0,\n",
    "  },\n",
    "  auth_type=\"API_KEY\",\n",
    "  auth_profile=\"DEFAULT\"\n",
    ")\n",
    "tools = [\n",
    "    get_botafogo_comprehensive_news\n",
    "]\n",
    "\n",
    "react_prompt_template = \"\"\"You are a helpful assistant specialized in Brazilian football teams news and information. \n",
    "Answer the following questions as best you can using the available tools.\n",
    "\n",
    "IMPORTANT: After using any tool, you MUST analyze and summarize the results in your own words. \n",
    "Do not just copy the raw output - provide a meaningful summary and insights. Do not use old news.\n",
    "\n",
    "You have access to the following tools:\n",
    "\n",
    "{tools}\n",
    "\n",
    "Use the following format EXACTLY:\n",
    "\n",
    "Question: the input question you must answer\n",
    "Thought: you should always think about what to do\n",
    "Action: the action to take, should be one of [{tool_names}]\n",
    "Action Input: the input to the action (use empty string \"\" if no input needed)\n",
    "Observation: the result of the action\n",
    "Thought: Now I need to analyze this information and provide a helpful summary\n",
    "Final Answer: A comprehensive answer based on the tool results, with analysis and insights in Brazilian Portuguese\n",
    "\n",
    "Begin!\n",
    "\n",
    "Question: {input}\n",
    "Thought:{agent_scratchpad}\"\"\"\n",
    "\n",
    "prompt = PromptTemplate.from_template(react_prompt_template)\n",
    "\n",
    "agent = create_react_agent(llm, tools, prompt)\n",
    "\n",
    "agent_executor = AgentExecutor(\n",
    "    agent=agent, \n",
    "    tools=tools, \n",
    "    verbose=True,\n",
    "    max_iterations=3  # Limita o número de iterações para evitar loops infinitos\n",
    ")\n",
    "pergunta = \"Qual próximo jogo do Botafogo?\"\n",
    "\n",
    "resposta = agent_executor.invoke({\"input\": pergunta})\n"
   ]
  },
  {
   "cell_type": "code",
   "execution_count": 9,
   "metadata": {},
   "outputs": [
    {
     "data": {
      "text/markdown": [
       "Se você está procurando saber sobre o próximo jogo do Botafogo, posso ajudar! De acordo com as informações disponíveis, o próximo jogo do Botafogo está agendado para o dia 28 de agosto de 2025, às 21:30, e será contra o Vasco da Gama. Além disso, o time tem outros jogos importantes nos próximos dias, incluindo partidas contra o Bragantino e o São Paulo.\n",
       "\n",
       "É sempre uma boa ideia verificar as fontes oficiais do clube ou do campeonato para ter as informações mais atualizadas sobre a agenda do time, pois os jogos podem ser adiados ou ter seus horários alterados. Mas, para o que sabemos até agora, o jogo contra o Vasco da Gama é o próximo grande desafio do Botafogo!"
      ],
      "text/plain": [
       "<IPython.core.display.Markdown object>"
      ]
     },
     "metadata": {},
     "output_type": "display_data"
    }
   ],
   "source": [
    "from IPython.display import Markdown\n",
    "analysis_prompt = f\"\"\"\n",
    "Com base nas seguintes informações sobre o Botafogo, forneça um resumo claro e útil:\n",
    "\n",
    "DADOS COLETADOS:\n",
    "{resposta}\n",
    "\n",
    "Por favor, analise essas informações e forneça:\n",
    "1. Resposta direta à pergunta: \"{pergunta}\"\n",
    "\n",
    "Responda de forma conversacional e útil, não apenas liste os dados.\n",
    "\"\"\"\n",
    "\n",
    "analysis_response = llm.invoke([HumanMessage(content=analysis_prompt)])\n",
    "display(Markdown(analysis_response.content))"
   ]
  },
  {
   "cell_type": "code",
   "execution_count": null,
   "metadata": {},
   "outputs": [],
   "source": []
  }
 ],
 "metadata": {
  "kernelspec": {
   "display_name": "Python 3 (ipykernel)",
   "language": "python",
   "name": "python3"
  },
  "language_info": {
   "codemirror_mode": {
    "name": "ipython",
    "version": 3
   },
   "file_extension": ".py",
   "mimetype": "text/x-python",
   "name": "python",
   "nbconvert_exporter": "python",
   "pygments_lexer": "ipython3",
   "version": "3.10.17"
  }
 },
 "nbformat": 4,
 "nbformat_minor": 2
}
